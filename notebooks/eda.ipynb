{
 "cells": [
  {
   "cell_type": "markdown",
   "metadata": {},
   "source": [
    "# EDA Notebook"
   ]
  },
  {
   "cell_type": "code",
   "execution_count": null,
   "metadata": {},
   "outputs": [],
   "source": [
    "%load_ext autoreload\n",
    "%autoreload 2"
   ]
  },
  {
   "cell_type": "code",
   "execution_count": 1,
   "metadata": {},
   "outputs": [],
   "source": [
    "# import libraries\n",
    "\n",
    "from main.data import DataLoader\n",
    "from utils.params import *\n",
    "\n",
    "from collections import Counter"
   ]
  },
  {
   "cell_type": "markdown",
   "metadata": {},
   "source": [
    "## Load artist data"
   ]
  },
  {
   "cell_type": "code",
   "execution_count": null,
   "metadata": {},
   "outputs": [],
   "source": [
    "# load data\n",
    "\n",
    "artist_df = DataLoader().load_data()\n",
    "artist_df.shape, artist_df.isnull().sum()"
   ]
  },
  {
   "cell_type": "code",
   "execution_count": null,
   "metadata": {},
   "outputs": [],
   "source": [
    "artist_df.info()"
   ]
  },
  {
   "cell_type": "markdown",
   "metadata": {},
   "source": [
    "## Can we clean up genres into something that is a bit more managable?"
   ]
  },
  {
   "cell_type": "code",
   "execution_count": null,
   "metadata": {},
   "outputs": [],
   "source": [
    "artist_df.genres.nunique()"
   ]
  },
  {
   "cell_type": "code",
   "execution_count": null,
   "metadata": {},
   "outputs": [],
   "source": [
    "genre_counts = artist_df.genres.value_counts().sort_values(ascending=False)\n",
    "single_count_genres = len(genre_counts[genre_counts == 1])\n",
    "\n",
    "print(f\"% of genres with only 1 occurence: {single_count_genres/len(genre_counts):.2f}\")"
   ]
  },
  {
   "cell_type": "markdown",
   "metadata": {},
   "source": [
    "### Get the highest occuring words in the genres list"
   ]
  },
  {
   "cell_type": "code",
   "execution_count": null,
   "metadata": {},
   "outputs": [],
   "source": [
    "genre_list = [eval(genres) for genres in artist_df.genres.to_list()]"
   ]
  },
  {
   "cell_type": "code",
   "execution_count": null,
   "metadata": {},
   "outputs": [],
   "source": [
    "genre_counter = Counter()\n",
    "for sublist in genre_list:\n",
    "    genre_counter.update(sublist)\n",
    "\n",
    "most_popular_genre_per_list = []\n",
    "for sublist in genre_list:\n",
    "    if sublist:\n",
    "        sorted_genres = sorted(sublist, key=lambda x: (-genre_counter[x], x))\n",
    "        most_popular_genre_per_list.append(sorted_genres[0])\n",
    "    else:\n",
    "        most_popular_genre_per_list.append(None)  # for empty lists"
   ]
  },
  {
   "cell_type": "code",
   "execution_count": null,
   "metadata": {},
   "outputs": [],
   "source": [
    "print(len(most_popular_genre_per_list))\n",
    "\n",
    "most_popular_genre_per_list[:10]"
   ]
  }
 ],
 "metadata": {
  "kernelspec": {
   "display_name": "music_dashboard",
   "language": "python",
   "name": "python3"
  },
  "language_info": {
   "codemirror_mode": {
    "name": "ipython",
    "version": 3
   },
   "file_extension": ".py",
   "mimetype": "text/x-python",
   "name": "python",
   "nbconvert_exporter": "python",
   "pygments_lexer": "ipython3",
   "version": "3.10.6"
  }
 },
 "nbformat": 4,
 "nbformat_minor": 2
}
